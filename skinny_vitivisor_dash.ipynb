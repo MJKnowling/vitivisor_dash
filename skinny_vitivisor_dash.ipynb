{
 "cells": [
  {
   "cell_type": "code",
   "execution_count": 1,
   "metadata": {
    "scrolled": true
   },
   "outputs": [],
   "source": [
    "%%capture\n",
    "from __future__ import print_function\n",
    "import os\n",
    "import ipywidgets as ipyw\n",
    "from ipywidgets import Dropdown, Checkbox, FloatText, IntSlider, Label, HBox, VBox\n",
    "from IPython.display import clear_output\n",
    "import pandas as pd\n",
    "import matplotlib.pyplot as plt\n",
    "import IPython\n",
    "import warnings\n",
    "warnings.filterwarnings(\"ignore\")\n",
    "import mjknowling\n",
    "import time\n",
    "import shutil"
   ]
  },
  {
   "cell_type": "code",
   "execution_count": 2,
   "metadata": {},
   "outputs": [],
   "source": [
    "%matplotlib inline"
   ]
  },
  {
   "cell_type": "markdown",
   "metadata": {},
   "source": [
    "### My Vineyard"
   ]
  },
  {
   "cell_type": "code",
   "execution_count": 3,
   "metadata": {},
   "outputs": [],
   "source": [
    "variety_d = {'variety': ['shiraz']}\n",
    "variety_widget = Dropdown( options=variety_d['variety'],\n",
    "                         value='shiraz',\n",
    "                         description='variety',\n",
    "                       )\n",
    "rootstock_d = {'rootstock': ['Schwartzmann']}\n",
    "rootstock_widget = Dropdown( options=rootstock_d['rootstock'],\n",
    "                         value='Schwartzmann',\n",
    "                         description='rootstock',\n",
    "                       )\n",
    "#style = {'description_width': 'initial'}\n",
    "#entitl_widget = FloatText( value=10.0, step=1, )#description='entitlement (ML)', style=style)\n",
    "#entitl_widget = HBox([Label('entitl. (ML)'), entitl_widget])\n",
    "left_box = VBox([variety_widget, ])#entitl_widget])\n",
    "right_box = VBox([rootstock_widget])\n",
    "#HBox([left_box, right_box])"
   ]
  },
  {
   "cell_type": "markdown",
   "metadata": {},
   "source": [
    "### Management Scenarios"
   ]
  },
  {
   "cell_type": "code",
   "execution_count": 4,
   "metadata": {},
   "outputs": [],
   "source": [
    "def updateScen(**kwargs):\n",
    "    #print([(k,v) for k, v in kwargs.items()])?\n",
    "    updateScen.sel_scens = {k: v for k, v in kwargs.items() if v is True}"
   ]
  },
  {
   "cell_type": "code",
   "execution_count": 5,
   "metadata": {},
   "outputs": [
    {
     "data": {
      "text/plain": [
       "{'Scenario01.json': 'M', 'Scenario02.json': 'H', 'Scenario03.json': 'L'}"
      ]
     },
     "execution_count": 5,
     "metadata": {},
     "output_type": "execute_result"
    }
   ],
   "source": [
    "scen_names = {}\n",
    "scen_fnames = [x for x in os.listdir() if \".json\" in x]\n",
    "for js in scen_fnames:\n",
    "    scen_names[js] = pd.read_json(os.path.join(js)).keys()[0]  #.tolist())\n",
    "#scen_names = [x.strip(\".json\") for x in os.listdir() if \"Scenario\" in x and \".json\" in x]\n",
    "scen_names"
   ]
  },
  {
   "cell_type": "code",
   "execution_count": 6,
   "metadata": {},
   "outputs": [
    {
     "data": {
      "application/vnd.jupyter.widget-view+json": {
       "model_id": "3b295f7f1f5a468cb8164de44e2d6065",
       "version_major": 2,
       "version_minor": 0
      },
      "text/plain": [
       "interactive(children=(Checkbox(value=True, description='M'), Checkbox(value=True, description='H'), Checkbox(v…"
      ]
     },
     "metadata": {},
     "output_type": "display_data"
    }
   ],
   "source": [
    "chk = [Checkbox(description=x, value=True) for i, x in scen_names.items()]\n",
    "#l_box, c_box, r_box = VBox([chk[0]]), VBox([chk[1]]), VBox([chk[2]])\n",
    "#HBox([l_box, c_box, r_box])\n",
    "\n",
    "ipyw.interactive(updateScen, **{c.description: c.value for c in chk})"
   ]
  },
  {
   "cell_type": "code",
   "execution_count": 7,
   "metadata": {},
   "outputs": [],
   "source": [
    "#scen0_chk = Checkbox(value=False, description=scen_names[0], disabled=False, indent=False)\n",
    "#scen1_chk = Checkbox(value=False, description=scen_names[1], disabled=False, indent=False)\n",
    "#scen2_chk = Checkbox(value=False, description=scen_names[2], disabled=False, indent=False)"
   ]
  },
  {
   "cell_type": "code",
   "execution_count": 8,
   "metadata": {},
   "outputs": [],
   "source": [
    "#ipyw.interact(updatePlot, **{scen0_chk.description: scen0_chk.value})\n",
    "#ipyw.interact(updatePlot, **{scen1_chk.description: scen1_chk.value})\n",
    "#ipyw.interact(updatePlot, **{scen2_chk.description: scen2_chk.value})"
   ]
  },
  {
   "cell_type": "code",
   "execution_count": 9,
   "metadata": {},
   "outputs": [],
   "source": [
    "def process_scen_json(scen_json_fname):\n",
    "    mapper = {\"Crush Price\": \"grape_price\", \n",
    "              \"Maximum irrigation mm per phenology\": \"IRSTAGECAP\",\n",
    "              \"Water market cost\": \"water_market_rate\",\n",
    "              \"Water delivery cost\": \"water_delivery_rate\",\n",
    "              \"Water entitlement\": \"water_entitlement\",\n",
    "              \"Cost per tip\": \"costs_per_tip\", \"Number of tips\": \"ntips\",\n",
    "              \"Cost per spray\": \"costs_per_spray\", \"Number of sprays\": \"nsprays\",}\n",
    "    d = {}\n",
    "    js = pd.read_json(os.path.join(scen_json_fname))\n",
    "    js = js[js.keys()[0]]  # there is only one scen per file\n",
    "    for k, v in js.items():\n",
    "        if k != \"Description\":\n",
    "            d[mapper[k]] = v[\"Value\"]\n",
    "            #if \"irr\" in k:\n",
    "             #   print(k)\n",
    "              #  d[mapper[k]][\"Value\"] = v[\"Value\"]\n",
    "               # d[mapper[k]][\"vinelogic_file\"] = \"RuleBasedIrrigation.json\"\n",
    "            #else:\n",
    "             #   d[mapper[k]] = v[\"Value\"]\n",
    "    #   sorted()\n",
    "    #for js in js.unique():\n",
    "    #update\n",
    "    #write\n",
    "    return d"
   ]
  },
  {
   "cell_type": "code",
   "execution_count": 10,
   "metadata": {},
   "outputs": [],
   "source": [
    "def scen_json_to_vinelogic(d, ws):\n",
    "    for k, v in d[ws].items():\n",
    "        #print(d, ws)\n",
    "        if k == \"IRSTAGECAP\":\n",
    "            f = \"RuleBasedIrrigationData.json\"\n",
    "            if isinstance(v, float):\n",
    "                print(\"uniform max irr mm: {}\".format(v))\n",
    "                df = pd.read_json(os.path.join(ws, f))\n",
    "                #print(df[\"IRSTAGECAP\"][\"Value\"])\n",
    "                od = df[\"IRSTAGECAP\"][\"Value\"]\n",
    "                df[\"IRSTAGECAP\"][\"Value\"] = [v for x in od]\n",
    "                #print(df[\"IRSTAGECAP\"][\"Value\"])\n",
    "                df.to_json(os.path.join(ws, f), indent=4)\n",
    "            elif isinstance(v, list) and len(v) == 5:\n",
    "                print(\"max irr mm per phen: {}\".format(v))\n",
    "                raise Exception\n",
    "            else:\n",
    "                raise Exception"
   ]
  },
  {
   "cell_type": "code",
   "execution_count": 11,
   "metadata": {},
   "outputs": [],
   "source": [
    "def on_button_clicked(b):\n",
    "    \n",
    "    clear_output()\n",
    "    display(button)\n",
    "    \n",
    "    #sel_scens = []\n",
    "    #if scen0_chk.value:\n",
    "    #    sel_scens.append(scen0_chk.description)\n",
    "    #if scen1_chk.value:\n",
    "    #    sel_scens.append(scen1_chk.description)\n",
    "    #if scen2_chk.value:\n",
    "    #    sel_scens.append(scen2_chk.description)\n",
    "    #print(sel_scens)\n",
    "    if len(updateScen.sel_scens) == 0:\n",
    "        raise Exception(\"Nothing to do - no scenarios to evaluate....\")\n",
    "    ss = updateScen.sel_scens\n",
    "    #print(ss)\n",
    "        \n",
    "    sel_scens = {}\n",
    "    for i in ss:\n",
    "        f = {k: v for k, v in scen_names.items() if v == i}\n",
    "        #f = list(f.keys())\n",
    "        sel_scens.update(f)\n",
    "    #print(sel_scens)\n",
    "    on_button_clicked.sel_scens = sel_scens\n",
    "    \n",
    "    # for old\n",
    "    sel_scens = [k for k, v in sel_scens.items()]\n",
    "        \n",
    "    base_d = \"_base\"\n",
    "    on_button_clicked.scen_d = {}\n",
    "    #print(sel_scens)\n",
    "    for sjf in sel_scens:\n",
    "        print(sjf)\n",
    "        #s = s[0]\n",
    "        #print(\"scen: {}\".format(s))\n",
    "        \n",
    "        # cp ws\n",
    "        s = sjf.split(\".json\")[0]\n",
    "        if os.path.exists(s):\n",
    "            shutil.rmtree(s)\n",
    "        #if not os.path.exists(sel_scens):\n",
    "         #   os.mkdir(sel_scens)\n",
    "        shutil.copytree(base_d, s)\n",
    "\n",
    "        #sjf = s + \".json\"\n",
    "        #print(sjf)\n",
    "        d = process_scen_json(scen_json_fname=sjf)\n",
    "        #print(d)\n",
    "        #TODO\n",
    "        #scen_d = mjknowling.process_scen_json()\n",
    "        #TODO\n",
    "        #print(on_button_clicked.scen_d)\n",
    "        on_button_clicked.scen_d[s] = d\n",
    "        #print(\"scen_d: \")\n",
    "        #print(on_button_clicked.scen_d)\n",
    "\n",
    "        scen_json_to_vinelogic(d=on_button_clicked.scen_d, ws=s)\n",
    "        #TODO\n",
    "        #mjknowling.scen_json_to_vinelogic(d=on_button_clicked.scen_d, ws=s)\n",
    "        #TODO\n",
    "        \n",
    "        # now run\n",
    "        #s = str_d['irrigation'].value\n",
    "        print(\"evaluating {}\".format(s))\n",
    "        _ = mjknowling.run_scen(\"temp\", scen_d=on_button_clicked.scen_d)\n",
    "        #plot = p_d['plot'].value\n",
    "        #print(\"plotting {}\".format(plot))\n",
    "        #mjknowling.plot_scen(scens, plot)\n",
    "        \n",
    "    return on_button_clicked.scen_d, on_button_clicked.sel_scens"
   ]
  },
  {
   "cell_type": "code",
   "execution_count": 12,
   "metadata": {},
   "outputs": [
    {
     "data": {
      "application/vnd.jupyter.widget-view+json": {
       "model_id": "c4fbd807e7dc4904850187e75fbce38c",
       "version_major": 2,
       "version_minor": 0
      },
      "text/plain": [
       "Button(description='Evaluate Scenario(s)', style=ButtonStyle())"
      ]
     },
     "metadata": {},
     "output_type": "display_data"
    }
   ],
   "source": [
    "button = ipyw.Button(description=\"Evaluate Scenario(s)\")\n",
    "button.on_click(on_button_clicked)\n",
    "display(button)"
   ]
  },
  {
   "cell_type": "markdown",
   "metadata": {},
   "source": [
    "### Seasonal projections"
   ]
  },
  {
   "cell_type": "code",
   "execution_count": 58,
   "metadata": {},
   "outputs": [],
   "source": [
    "def plot_request_mapper(l1w, l2w):\n",
    "    plot_str = ipyw.Text(\"0.5\")\n",
    "    p_d = {\"plot\": plot_str}\n",
    "    if l1w.value is not None and l2w is not None:\n",
    "        if l1w.value == \"irrigation\":\n",
    "            if l2w.value == \"time series\":\n",
    "                p_d['plot'].value = 'irrigationtimeseries'\n",
    "            elif l2w.value == \"total\":\n",
    "                p_d['plot'].value = 'irrigationtotal'\n",
    "        elif l1w.value == \"infiltration\" and l2w.value == \"time series\":\n",
    "            p_d['plot'].value = 'infiltrationts'\n",
    "        elif l1w.value == \"evaporation\" and l2w.value == \"time series\":\n",
    "            p_d['plot'].value = 'evaporationts'\n",
    "        elif l1w.value == \"soil moisture\" and l2w.value == \"time series\":\n",
    "            p_d['plot'].value = 'soilmoisturets'\n",
    "        elif l1w.value == \"root uptake\" and l2w.value == \"time series\":\n",
    "            p_d['plot'].value = 'rootuptakets'\n",
    "        elif l1w.value == \"rainfall\" and l2w.value == \"time series\":\n",
    "            p_d['plot'].value = 'raints'\n",
    "        elif l1w.value == \"ponding\" and l2w.value == \"time series\":\n",
    "            p_d['plot'].value = 'pondts'\n",
    "        elif l1w.value == \"costs\" and l2w.value == \"irrigation\":\n",
    "            p_d['plot'].value = 'irrigationcost'\n",
    "        elif l1w.value == \"end of season\" and l2w.value == \"yield\":\n",
    "            p_d['plot'].value = 'harvestyield'\n",
    "        elif l1w.value == \"revenue\" and l2w.value == \"crush\":\n",
    "            p_d['plot'].value = 'harvestrevenue'\n",
    "        elif l1w.value == \"growth\":\n",
    "            if l2w.value == \"canopy\":\n",
    "                p_d['plot'].value = 'laitimeseries'\n",
    "            elif l2w.value == \"fruit\":\n",
    "                p_d['plot'].value = 'fruittimeseries'\n",
    "            elif l2w.value == \"Brix\":\n",
    "                p_d['plot'].value = 'brixtimeseries'\n",
    "        elif l1w.value == \"key dates\":\n",
    "            #p_d['plot'].value = l2w.value\n",
    "            if l2w.value == \"bud burst\":\n",
    "                p_d['plot'].value = 'bbdate'\n",
    "            elif l2w.value == \"first flower\":\n",
    "                p_d['plot'].value = 'ffdate'\n",
    "            elif l2w.value == \"veraison\":\n",
    "                p_d['plot'].value = 'vsdate'\n",
    "            elif l2w.value == \"harvest\":\n",
    "                p_d['plot'].value = 'hvdate'\n",
    "        elif l1w.value == \"costs\" and l2w.value == \"total\":\n",
    "            p_d['plot'].value = 'costcontributions'\n",
    "        elif l1w.value == \"bottom line\" and l2w.value == \"gross margin\":\n",
    "            p_d['plot'].value = 'grossmargin'\n",
    "        elif l1w.value == \"investigation\":\n",
    "            if l2w.value == \"available energy\":\n",
    "                p_d['plot'].value = 'cpoolts'\n",
    "            if l2w.value == \"fruit energy sink\":\n",
    "                p_d['plot'].value = 'fruitsinkts'\n",
    "            if l2w.value == \"soil water stress index\":\n",
    "                p_d['plot'].value = 'swstressts'\n",
    "        else:\n",
    "            p_d['plot'].value = 'underdev'\n",
    "    else:\n",
    "        raise Exception(\"Please select an option from each of the drop-down menus\")\n",
    "    return p_d"
   ]
  },
  {
   "cell_type": "code",
   "execution_count": 59,
   "metadata": {},
   "outputs": [],
   "source": [
    "d0 = {'how my vine is developing' : ['growth', 'key dates', 'end of season', 'investigation'], \n",
    "      'where my water is going' : ['irrigation', 'rainfall', 'ponding', 'evaporation', \n",
    "                                   'infiltration', 'soil moisture', 'root uptake'],\n",
    "      'what my financial position is': ['revenue', 'costs', 'bottom line']}\n",
    "d1 = {v: [] for v in [x for y in list(d0.values()) for x in y]}  # one level? at a time - to avoid multi-index hassle\n",
    "d1['irrigation'] = ['time series', 'total']\n",
    "d1['infiltration'] = ['time series']\n",
    "d1['evaporation'] = ['time series']\n",
    "d1['soil moisture'] = ['time series']\n",
    "d1['root uptake'] = ['time series']\n",
    "d1['rainfall'] = ['time series']\n",
    "d1['ponding'] = ['time series']\n",
    "d1['key dates'] = ['bud burst', 'first flower', 'veraison', 'harvest']\n",
    "d1['investigation'] = ['available energy', 'fruit energy sink', 'soil water stress index']\n",
    "d1['growth'] = ['canopy', 'fruit', 'Brix']\n",
    "d1['end of season'] = ['yield']\n",
    "d1['revenue'] = ['crush']\n",
    "d1['costs'] = ['irrigation', 'total']  #'labour', 'diesel', 'chemical', \n",
    "d1['bottom line'] = ['gross margin']\n",
    "\n",
    "level0_widget = Dropdown( options=list(d0.keys()),\n",
    "                         value='how my vine is developing',\n",
    "                         description='',\n",
    "                       )\n",
    "level1_widget = Dropdown( options=d0['how my vine is developing'],\n",
    "                         value=None,\n",
    "                         description='',\n",
    "                       )\n",
    "level2_widget = Dropdown( options=d0['how my vine is developing'],\n",
    "                         value=None,\n",
    "                         description='',\n",
    "                       )\n",
    "\n",
    "def on_update_widget_level0(*args):\n",
    "    level1_widget.options = d0[level0_widget.value]\n",
    "level0_widget.observe(on_update_widget_level0, 'value')\n",
    "\n",
    "def on_update_widget_level1(*args):\n",
    "    level2_widget.options = d1[level1_widget.value]\n",
    "level1_widget.observe(on_update_widget_level1, 'value')"
   ]
  },
  {
   "cell_type": "code",
   "execution_count": 60,
   "metadata": {},
   "outputs": [],
   "source": [
    "def on_change1(change):\n",
    "    not_in_l = d0['how my vine is developing'] + d0['what my financial position is']\n",
    "    if change['type'] == 'change' and change['name'] == 'value':\n",
    "        # TODO: tidy\n",
    "        if \"water\" in level0_widget.value and (\"irrigation\" not in level1_widget.value or \n",
    "                                              (\"irrigation\" in level1_widget.value and (\n",
    "                                               change['old'] is not None and \"irrigation\" not in change['old']\n",
    "                                               and \"revenue\" not in change['old'] and \"costs\" not in change['old']\n",
    "                                               and \"bottom line\" not in change['old'] and \"growth\" not in change['old']\n",
    "                                               and \"key dates\" not in change['old'] \n",
    "                                               and \"end of season\" not in change['old']))):\n",
    "            on_change(change)\n",
    "\n",
    "def on_change2(change):\n",
    "    if change['type'] == 'change' and change['name'] == 'value':\n",
    "        if \"water\" not in level0_widget.value or (\"water\" in level0_widget.value \n",
    "                                                  and \"irrigation\" in level1_widget.value):\n",
    "            on_change(change)\n",
    "            \n",
    "def on_change(change):\n",
    "    #plt.close()\n",
    "    #print(\"changed to {}\".format(change['new']))\n",
    "    clear_output()\n",
    "    display(HBox([l_box, c_box, r_box]))\n",
    "    #display(button)\n",
    "    #irrig = str_d['irrigation'].value\n",
    "    #print(\"evaluating {} irrigation scenario with respect to base scenario...\".format(irrig))\n",
    "    \n",
    "    # TODO: drop irrig scen\n",
    "    #scens = mjknowling.run_scen(irrig, scen_d=scen_d)\n",
    "    \n",
    "    p_d = plot_request_mapper(l1w=level1_widget, l2w=level2_widget)\n",
    "    plot = p_d['plot'].value\n",
    "    time.sleep(.001)\n",
    "    #print(on_button_clicked.scen_d, on_button_clicked.sel_scens)\n",
    "    dd = {}\n",
    "    try:\n",
    "        on_button_clicked.sel_scens\n",
    "        on_button_clicked.scen_d\n",
    "    except AttributeError:\n",
    "        print(\"throw error here\")\n",
    "    for k, v in on_button_clicked.sel_scens.items():\n",
    "        dd[v] = on_button_clicked.scen_d[k.strip(\".json\")]\n",
    "    #print(list(on_button_clicked.scen_d.keys()))\n",
    "    #print(dd)\n",
    "    cd = {}\n",
    "    for k, v in on_button_clicked.sel_scens.items():\n",
    "        cd[k.strip(\".json\")] = on_button_clicked.sel_scens[k]\n",
    "    #print(cd)\n",
    "    #print(\"plotting {}\".format(plot))\n",
    "    mjknowling.plot_scen(cd, plot, scen_d=dd)#on_button_clicked.scen_d)"
   ]
  },
  {
   "cell_type": "code",
   "execution_count": 61,
   "metadata": {},
   "outputs": [],
   "source": [
    "level1_widget.observe(on_change1)\n",
    "level2_widget.observe(on_change2)"
   ]
  },
  {
   "cell_type": "code",
   "execution_count": 62,
   "metadata": {},
   "outputs": [
    {
     "name": "stdout",
     "output_type": "stream",
     "text": [
      "I want to know...\n"
     ]
    }
   ],
   "source": [
    "print('I want to know...')"
   ]
  },
  {
   "cell_type": "code",
   "execution_count": 63,
   "metadata": {},
   "outputs": [
    {
     "data": {
      "application/vnd.jupyter.widget-view+json": {
       "model_id": "c4fbd807e7dc4904850187e75fbce38c",
       "version_major": 2,
       "version_minor": 0
      },
      "text/plain": [
       "Button(description='Evaluate Scenario(s)', style=ButtonStyle())"
      ]
     },
     "metadata": {},
     "output_type": "display_data"
    }
   ],
   "source": [
    "display(button)"
   ]
  },
  {
   "cell_type": "code",
   "execution_count": 64,
   "metadata": {},
   "outputs": [],
   "source": [
    "#on_button_clicked.sel_scens"
   ]
  },
  {
   "cell_type": "code",
   "execution_count": 65,
   "metadata": {},
   "outputs": [],
   "source": [
    "#on_button_clicked.scen_d"
   ]
  },
  {
   "cell_type": "code",
   "execution_count": 66,
   "metadata": {
    "scrolled": false
   },
   "outputs": [
    {
     "data": {
      "application/vnd.jupyter.widget-view+json": {
       "model_id": "3acda368c4af4130b74c50cb57e5af42",
       "version_major": 2,
       "version_minor": 0
      },
      "text/plain": [
       "HBox(children=(VBox(children=(Dropdown(options=('how my vine is developing', 'where my water is going', 'what …"
      ]
     },
     "metadata": {},
     "output_type": "display_data"
    },
    {
     "data": {
      "image/png": "[encoded data removed]",
      "text/plain": [
       "<Figure size 576x432 with 1 Axes>"
      ]
     },
     "metadata": {
      "needs_background": "light"
     },
     "output_type": "display_data"
    }
   ],
   "source": [
    "l_box, c_box, r_box = VBox([level0_widget]), VBox([level1_widget]), VBox([level2_widget])\n",
    "display(HBox([l_box, c_box, r_box]))"
   ]
  },
  {
   "cell_type": "code",
   "execution_count": 67,
   "metadata": {},
   "outputs": [],
   "source": [
    "# display(level0_widget)\n",
    "# display(level1_widget)\n",
    "# display(level2_widget)"
   ]
  },
  {
   "cell_type": "code",
   "execution_count": null,
   "metadata": {},
   "outputs": [],
   "source": []
  },
  {
   "cell_type": "code",
   "execution_count": null,
   "metadata": {},
   "outputs": [],
   "source": []
  },
  {
   "cell_type": "code",
   "execution_count": null,
   "metadata": {},
   "outputs": [],
   "source": []
  },
  {
   "cell_type": "code",
   "execution_count": null,
   "metadata": {},
   "outputs": [],
   "source": []
  },
  {
   "cell_type": "code",
   "execution_count": null,
   "metadata": {},
   "outputs": [],
   "source": []
  },
  {
   "cell_type": "code",
   "execution_count": null,
   "metadata": {},
   "outputs": [],
   "source": []
  },
  {
   "cell_type": "code",
   "execution_count": null,
   "metadata": {},
   "outputs": [],
   "source": []
  }
 ],
 "metadata": {
  "kernelspec": {
   "display_name": "Python 3",
   "language": "python",
   "name": "python3"
  },
  "language_info": {
   "codemirror_mode": {
    "name": "ipython",
    "version": 3
   },
   "file_extension": ".py",
   "mimetype": "text/x-python",
   "name": "python",
   "nbconvert_exporter": "python",
   "pygments_lexer": "ipython3",
   "version": "3.6.10"
  }
 },
 "nbformat": 4,
 "nbformat_minor": 4
}
