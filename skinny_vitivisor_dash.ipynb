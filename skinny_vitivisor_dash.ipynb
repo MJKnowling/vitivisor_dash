{
 "cells": [
  {
   "cell_type": "code",
   "execution_count": 1,
   "metadata": {
    "scrolled": true
   },
   "outputs": [],
   "source": [
    "%%capture\n",
    "from __future__ import print_function\n",
    "import os\n",
    "import ipywidgets as ipyw\n",
    "from ipywidgets import Dropdown, Checkbox, FloatText, IntSlider, Label, HBox, VBox\n",
    "from IPython.display import clear_output\n",
    "import pandas as pd\n",
    "import matplotlib.pyplot as plt\n",
    "import IPython\n",
    "import warnings\n",
    "warnings.filterwarnings(\"ignore\")\n",
    "import mjknowling\n",
    "import time\n",
    "import shutil\n",
    "import platform\n",
    "#print(\"running on...: {}\".format(platform.platform()))"
   ]
  },
  {
   "cell_type": "code",
   "execution_count": 2,
   "metadata": {},
   "outputs": [],
   "source": [
    "%matplotlib inline"
   ]
  },
  {
   "cell_type": "code",
   "execution_count": 3,
   "metadata": {},
   "outputs": [],
   "source": [
    "### Installing VineLOGIC R package - after building *.tar.gz file; see https://gitlab.com/mjknowling/da_opt_vinelogic\n",
    "call = 'R CMD INSTALL VineLOGIC_0.1.0.tar.gz'\n",
    "r = os.system(call)\n",
    "if r != 0:\n",
    "    raise Exception(\"VineLOGIC build/install failed... go to https://gitlab.com/mjknowling/da_opt_vinelogic\")"
   ]
  },
  {
   "cell_type": "code",
   "execution_count": 4,
   "metadata": {},
   "outputs": [],
   "source": [
    "### My Vineyard"
   ]
  },
  {
   "cell_type": "code",
   "execution_count": 5,
   "metadata": {},
   "outputs": [
    {
     "data": {
      "application/vnd.jupyter.widget-view+json": {
       "model_id": "bc0ee68124a8448ba098a6f9df78c0b0",
       "version_major": 2,
       "version_minor": 0
      },
      "text/plain": [
       "HBox(children=(VBox(children=(Dropdown(description='variety', options=('shiraz',), value='shiraz'),)), VBox(ch…"
      ]
     },
     "metadata": {},
     "output_type": "display_data"
    }
   ],
   "source": [
    "variety_d = {'variety': ['shiraz']}\n",
    "variety_widget = Dropdown( options=variety_d['variety'],\n",
    "                         value='shiraz',\n",
    "                         description='variety',\n",
    "                       )\n",
    "rootstock_d = {'rootstock': ['Own Roots', 'Schwarzmann', 'Ramsey']}\n",
    "rootstock_widget = Dropdown( options=rootstock_d['rootstock'],\n",
    "                         value='Schwarzmann',\n",
    "                         description='rootstock',\n",
    "                       )\n",
    "#style = {'description_width': 'initial'}\n",
    "#entitl_widget = FloatText( value=10.0, step=1, )#description='entitlement (ML)', style=style)\n",
    "#entitl_widget = HBox([Label('entitl. (ML)'), entitl_widget])\n",
    "left_box = VBox([variety_widget, ])#entitl_widget])\n",
    "right_box = VBox([rootstock_widget])\n",
    "HBox([left_box, right_box])"
   ]
  },
  {
   "cell_type": "code",
   "execution_count": 6,
   "metadata": {},
   "outputs": [],
   "source": [
    "#cultivar_par_df = \n",
    "#for w in [rootstock_widget.value, ]:#variety_widget.value]:\n",
    "#s = rs_par_df.loc[rootstock_widget.value, :]\n",
    "#for c in s.columns:\n",
    " #   print(c)\n",
    "    #apply_vinelogic_par(c)"
   ]
  },
  {
   "cell_type": "code",
   "execution_count": 7,
   "metadata": {},
   "outputs": [],
   "source": [
    "#cultivar_par_df = pd.read_csv(os.path.join(\"_data\", \"CSIRO_VineLOGIC_datasets\", \"berry3.cul\"))\n",
    "#vineyard json\n",
    "#then to vinelogic"
   ]
  },
  {
   "cell_type": "markdown",
   "metadata": {},
   "source": [
    "### Management Scenarios"
   ]
  },
  {
   "cell_type": "code",
   "execution_count": 8,
   "metadata": {},
   "outputs": [],
   "source": [
    "def updateScen(**kwargs):\n",
    "    #print([(k,v) for k, v in kwargs.items()])?\n",
    "    updateScen.sel_scens = {k: v for k, v in kwargs.items() if v is True}"
   ]
  },
  {
   "cell_type": "code",
   "execution_count": 9,
   "metadata": {},
   "outputs": [],
   "source": [
    "scen_names = {}\n",
    "scen_fnames = [x for x in os.listdir() if \".json\" in x and \"Scen\" in x and \"Copy\" not in x]\n",
    "for js in scen_fnames:\n",
    "    scen_names[js] = pd.read_json(os.path.join(js)).keys()[0]  #.tolist())\n",
    "#print(scen_names)"
   ]
  },
  {
   "cell_type": "code",
   "execution_count": 10,
   "metadata": {},
   "outputs": [],
   "source": [
    "## TODO: add 'gotcha' checks here - ensure three unique scenario files only\n",
    "#i.e., handle scen file copies, ensure none with same name"
   ]
  },
  {
   "cell_type": "code",
   "execution_count": 11,
   "metadata": {},
   "outputs": [
    {
     "data": {
      "application/vnd.jupyter.widget-view+json": {
       "model_id": "c6b955c713714aa9a848f6c2da6fb564",
       "version_major": 2,
       "version_minor": 0
      },
      "text/plain": [
       "interactive(children=(Checkbox(value=True, description='2 ML/ha,\\nShiraz,\\nSchwarzmann'), Checkbox(value=True,…"
      ]
     },
     "metadata": {},
     "output_type": "display_data"
    }
   ],
   "source": [
    "chk = [Checkbox(description=x, value=True) for i, x in scen_names.items()]\n",
    "#l_box, c_box, r_box = VBox([chk[0]]), VBox([chk[1]]), VBox([chk[2]])\n",
    "#HBox([l_box, c_box, r_box])\n",
    "\n",
    "ipyw.interactive(updateScen, **{c.description: c.value for c in chk})"
   ]
  },
  {
   "cell_type": "code",
   "execution_count": 12,
   "metadata": {},
   "outputs": [],
   "source": [
    "#scen0_chk = Checkbox(value=False, description=scen_names[0], disabled=False, indent=False)\n",
    "#scen1_chk = Checkbox(value=False, description=scen_names[1], disabled=False, indent=False)\n",
    "#scen2_chk = Checkbox(value=False, description=scen_names[2], disabled=False, indent=False)"
   ]
  },
  {
   "cell_type": "code",
   "execution_count": 13,
   "metadata": {},
   "outputs": [],
   "source": [
    "#ipyw.interact(updatePlot, **{scen0_chk.description: scen0_chk.value})\n",
    "#ipyw.interact(updatePlot, **{scen1_chk.description: scen1_chk.value})\n",
    "#ipyw.interact(updatePlot, **{scen2_chk.description: scen2_chk.value})"
   ]
  },
  {
   "cell_type": "code",
   "execution_count": 14,
   "metadata": {},
   "outputs": [],
   "source": [
    "def process_scen_json(scen_json_fname):\n",
    "    mapper = {\"Crush Price\": \"grape_price\", \n",
    "              \"Maximum irrigation mm per phenology\": \"IRSTAGECAP\",\n",
    "              \"Maximum daily irrigation mm per phenology\": \"IRDAYSTAGECAP\",\n",
    "              \"Water market cost\": \"water_market_rate\",\n",
    "              \"Water delivery cost\": \"water_delivery_rate\",\n",
    "              \"Water entitlement\": \"water_entitlement\",\n",
    "              \"Water allocation factor\": \"allocation_factor\",\n",
    "              \"Private diversion factor\": \"diversion_factor\",\n",
    "              \"Cost per tip\": \"costs_per_tip\", \"Number of tips\": \"ntips\",\n",
    "              \"Cost per spray\": \"costs_per_spray\", \"Number of sprays\": \"nsprays\",\n",
    "              \"Days between irrigation applications per phenology\": \"IRRETNPERIOD\", \n",
    "              \"Soil water irrigation trigger per phenology\": \"IRCRITSW\",\n",
    "              \"Soil water irrigation defict refill percent per phenology\": \"IRREFILLPER\", \n",
    "              \"Rootstock\": \"Rootstock\",\n",
    "              \"Variety\": \"Variety\",\n",
    "             }\n",
    "    d = {}\n",
    "    js = pd.read_json(os.path.join(scen_json_fname))\n",
    "    js = js[js.keys()[0]]  # there is only one scen per file\n",
    "    for k, v in js.items():\n",
    "        if k != \"Description\":\n",
    "            d[mapper[k]] = v[\"Value\"]\n",
    "            #if \"irr\" in k:\n",
    "             #   print(k)\n",
    "              #  d[mapper[k]][\"Value\"] = v[\"Value\"]\n",
    "               # d[mapper[k]][\"vinelogic_file\"] = \"RuleBasedIrrigation.json\"\n",
    "            #else:\n",
    "             #   d[mapper[k]] = v[\"Value\"]\n",
    "    #   sorted()\n",
    "    #for js in js.unique():\n",
    "    #update\n",
    "    #write\n",
    "    return d"
   ]
  },
  {
   "cell_type": "code",
   "execution_count": 15,
   "metadata": {},
   "outputs": [],
   "source": [
    "def scen_json_to_vinelogic(d, ws):\n",
    "    for k, v in d[ws].items():\n",
    "        #print(k, v)\n",
    "        \n",
    "        if k.startswith(\"IR\"):  # RuleBasedIrrigation\n",
    "            f = \"RuleBasedIrrigationData.json\"\n",
    "            df = pd.read_json(os.path.join(ws, f))\n",
    "            od = df[k][\"Value\"]\n",
    "            if isinstance(v, float):\n",
    "                df[k][\"Value\"] = [v for x in od]\n",
    "                df.to_json(os.path.join(ws, f), indent=4)\n",
    "            elif isinstance(v, list) and len(v) == 5:\n",
    "                df[k][\"Value\"] = v\n",
    "                df.to_json(os.path.join(ws, f), indent=4)\n",
    "            else:\n",
    "                raise Exception\n",
    "                \n",
    "        elif k == \"Rootstock\":\n",
    "            rs_vars = [\"RootstockName\", \"RootstockID\", \"RstockVigIndex\", \"RstockAernSens\"]\n",
    "            f = \"Rootstock.json\"\n",
    "            rs_types = [\"Own Roots\", \"Ramsey\", \"Schwarzmann\"]\n",
    "            df = pd.read_json(os.path.join(ws, f))\n",
    "            # TODO: read from _data\n",
    "            #rs_par_df = pd.read_csv(os.path.join(\"_data\", \"CSIRO_VineLOGIC_datasets\", \"Rootstock050.cul\"), sep='\\t', \n",
    "             #                        skiprows=1, index_col=2)\n",
    "            rs_par_df = pd.DataFrame([[\"Own Roots\",\"00001\",3,7],[\"Ramsey\",\"00002\",9,5],[\"Schwarzmann\",\"00005\",9,9]], index=rs_types, \n",
    "                                     columns=rs_vars)  # from CSIRO_VineLOGIC_datasets, Rootstock050.cul\n",
    "            for rsv in rs_vars:\n",
    "                df[rsv][\"Value\"] = rs_par_df.loc[v, rsv]\n",
    "            df.to_json(os.path.join(ws, f), indent=4)\n",
    "            # TODO: quite a few un-utilized variables here\n",
    "        \n",
    "        elif k == \"Variety\":\n",
    "            varieties = [\"Shiraz\", \"Chardonnay\", \"Cabernet Sauvignon\", \"Colombard\"]\n",
    "            bcul_vars = [\"SetDD\", \"BeginVerdd\", \"dw1\", \"dw2\", \"critbrix\", \"banth\", \"canth\"]\n",
    "            cul_vars = [\"VarietyName\", \"VarietyID\", \"P1VV\", \"P2BB\", \"P3FF\", \"P4HH\", \"P5LF\", \"G1BN\", \"PHINT\"]\n",
    "            f = [\"BerryCultivar.json\", \"Cultivar.json\"]\n",
    "            bc_par_df = pd.DataFrame([[100,700,0.00015,0.0006,19,0.331,17.929],\n",
    "                          [100,700,0.00015,0.0008,19,0.0,0.0],\n",
    "                          [100,700,0.0002,0.003,19,2.49,17.272],\n",
    "                          [100,700,0.00015,0.01,19,0.0,0.0]], \n",
    "                         index=varieties, columns=bcul_vars)  # from CSIRO_VineLOGIC_datasets, Rootstock050.cul\n",
    "            c_par_df = pd.DataFrame([[\"SHIRAZ\",\"IB0007\",5,325,140,1450,800,0.5,42.0],\n",
    "                          [\"CHARDONNAY\",\"IB0003\",5,210,180,1550,900,1.0,42.0],\n",
    "                          [\"CABERNET SAUVIGNON\",\"IB0002\",5,275,125,1700,500,0.9,42.0],\n",
    "                          [\"COLOMBARD\",\"IB0015\",5,210,160,1650,900,1.0,42.0]], \n",
    "                         index=varieties, columns=cul_vars)  # from CSIRO_VineLOGIC_datasets, Rootstock050.cul\n",
    "            for ff in f:\n",
    "                df = pd.read_json(os.path.join(ws, ff))\n",
    "                # TODO: read from _data - Vines050.cul (Cultivar.json) and berry3.cul (BerryCultivar.json)\n",
    "                if \"Berry\" in ff:\n",
    "                    for bcv in bcul_vars:\n",
    "                        df[bcv][\"Value\"] = bc_par_df.loc[v, bcv]\n",
    "                else:\n",
    "                    for cv in cul_vars:\n",
    "                        df[cv][\"Value\"] = c_par_df.loc[v, cv]\n",
    "                df.to_json(os.path.join(ws, ff), indent=4)\n",
    "        \n",
    "        # bud no.... related to pruning strategy"
   ]
  },
  {
   "cell_type": "code",
   "execution_count": 16,
   "metadata": {},
   "outputs": [],
   "source": [
    "def on_button_clicked(b):\n",
    "    \n",
    "    clear_output()\n",
    "    display(button)\n",
    "    #print(on_button_clicked)\n",
    "    #print(on_button_clicked.scen_ws)\n",
    "    \n",
    "    #sel_scens = []\n",
    "    #if scen0_chk.value:\n",
    "    #    sel_scens.append(scen0_chk.description)\n",
    "    #if scen1_chk.value:\n",
    "    #    sel_scens.append(scen1_chk.description)\n",
    "    #if scen2_chk.value:\n",
    "    #    sel_scens.append(scen2_chk.description)\n",
    "    #print(sel_scens)\n",
    "    if len(updateScen.sel_scens) == 0:\n",
    "        raise Exception(\"Nothing to do - no scenarios to evaluate....\")\n",
    "    ss = updateScen.sel_scens\n",
    "    #print(ss)\n",
    "        \n",
    "    sel_scens = {}\n",
    "    for i in ss:\n",
    "        f = {k: v for k, v in scen_names.items() if v == i}\n",
    "        #f = list(f.keys())\n",
    "        sel_scens.update(f)\n",
    "    #print(sel_scens)\n",
    "    on_button_clicked.sel_scens = sel_scens\n",
    "    \n",
    "    # for old\n",
    "    sel_scens = [k for k, v in sel_scens.items()]\n",
    "        \n",
    "    base_d = \"_base\"\n",
    "    temp_d = \"_simulations\"\n",
    "    on_button_clicked.scen_d = {}\n",
    "    #print(sel_scens)\n",
    "    for sjf in sel_scens:\n",
    "        #s = s[0]\n",
    "        #print(\"scen: {}\".format(s))\n",
    "        \n",
    "        # cp ws\n",
    "        s = sjf.split(\".json\")[0]\n",
    "        if os.path.exists(s):\n",
    "            shutil.rmtree(s)\n",
    "        #if not os.path.exists(sel_scens):\n",
    "         #   os.mkdir(sel_scens)\n",
    "        shutil.copytree(base_d, s)\n",
    "\n",
    "        #sjf = s + \".json\"\n",
    "        #print(sjf)\n",
    "        d = process_scen_json(scen_json_fname=sjf)\n",
    "        #TODO\n",
    "        #scen_d = mjknowling.process_scen_json()\n",
    "        #TODO\n",
    "        #print(on_button_clicked.scen_d)\n",
    "        on_button_clicked.scen_d[s] = d\n",
    "        #print(\"scen_d: \")\n",
    "        #print(on_button_clicked.scen_d)\n",
    "\n",
    "        scen_json_to_vinelogic(d=on_button_clicked.scen_d, ws=s)\n",
    "        #TODO\n",
    "        #mjknowling.scen_json_to_vinelogic(d=on_button_clicked.scen_d, ws=s)\n",
    "        #TODO\n",
    "        \n",
    "        # now run\n",
    "        #s = str_d['irrigation'].value\n",
    "        #_ = mjknowling.run_scen(scen_d=on_button_clicked.scen_d, ws=s)\n",
    "        mjknowling.run_scen(ws=s)\n",
    "        #print(\"evaluation of {} complete\".format(s))\n",
    "        #plot = p_d['plot'].value\n",
    "        #print(\"plotting {}\".format(plot))\n",
    "        #mjknowling.plot_scen(scens, plot)\n",
    "        \n",
    "    return on_button_clicked.scen_d, on_button_clicked.sel_scens"
   ]
  },
  {
   "cell_type": "code",
   "execution_count": 17,
   "metadata": {},
   "outputs": [
    {
     "data": {
      "application/vnd.jupyter.widget-view+json": {
       "model_id": "22e4b60d50194f209ee4ab98d1a4ef61",
       "version_major": 2,
       "version_minor": 0
      },
      "text/plain": [
       "Button(description='Evaluate Scenario(s)', style=ButtonStyle())"
      ]
     },
     "metadata": {},
     "output_type": "display_data"
    }
   ],
   "source": [
    "button = ipyw.Button(description=\"Evaluate Scenario(s)\")\n",
    "button.on_click(on_button_clicked)\n",
    "display(button)"
   ]
  },
  {
   "cell_type": "markdown",
   "metadata": {},
   "source": [
    "### Seasonal projections"
   ]
  },
  {
   "cell_type": "code",
   "execution_count": 18,
   "metadata": {},
   "outputs": [],
   "source": [
    "def plot_request_mapper(l1w, l2w):\n",
    "    plot_str = ipyw.Text(\"0.5\")\n",
    "    p_d = {\"plot\": plot_str}\n",
    "    if l1w.value is not None and l2w is not None:\n",
    "        if l1w.value == \"irrigation\":\n",
    "            if l2w.value == \"time series\":\n",
    "                p_d['plot'].value = 'irrigationtimeseries'\n",
    "            elif l2w.value == \"total\":\n",
    "                p_d['plot'].value = 'irrigationtotal'\n",
    "        elif l1w.value == \"infiltration\" and l2w.value == \"time series\":\n",
    "            p_d['plot'].value = 'infiltrationts'\n",
    "        elif l1w.value == \"evaporation\" and l2w.value == \"time series\":\n",
    "            p_d['plot'].value = 'evaporationts'\n",
    "        elif l1w.value == \"soil moisture\" and l2w.value == \"time series\":\n",
    "            p_d['plot'].value = 'soilmoisturets'\n",
    "        elif l1w.value == \"total soil water\" and l2w.value == \"time series\":\n",
    "            p_d['plot'].value = 'tsw1ts'\n",
    "        #elif l1w.value == \"tsw2\" and l2w.value == \"time series\":\n",
    "         #   p_d['plot'].value = 'tsw2ts'\n",
    "        elif l1w.value == \"drainage\" and l2w.value == \"time series\":\n",
    "            p_d['plot'].value = 'drainagets'\n",
    "        elif l1w.value == \"water table\" and l2w.value == \"time series\":\n",
    "            p_d['plot'].value = 'watertablets'\n",
    "        elif l1w.value == \"soil water deficit irrigation trigger\" and l2w.value == \"time series\":\n",
    "            p_d['plot'].value = 'athetats'\n",
    "        elif l1w.value == \"soil water balance error\" and l2w.value == \"time series\":\n",
    "            p_d['plot'].value = 'swbts'\n",
    "        elif l1w.value == \"soil water balance components\":\n",
    "            #if l2w.value == \"pie charts\":\n",
    "             #   p_d['plot'].value = 'swbpie'\n",
    "            #else:\n",
    "            p_d['plot'].value = 'swbbar'\n",
    "        elif l1w.value == \"tswtop\" and l2w.value == \"time series\":\n",
    "            p_d['plot'].value = 'tswtopts'\n",
    "        elif l1w.value == \"wet1\" and l2w.value == \"time series\":\n",
    "            p_d['plot'].value = 'wet1ts'\n",
    "        elif l1w.value == \"root uptake\" and l2w.value == \"time series\":\n",
    "            p_d['plot'].value = 'rootuptakets'\n",
    "        elif l1w.value == \"rainfall\":\n",
    "            if l2w.value == \"time series\":\n",
    "                p_d['plot'].value = 'raints'\n",
    "            elif l2w.value == \"total\":\n",
    "                p_d['plot'].value = 'raintotal'\n",
    "        elif l1w.value == \"ponding\" and l2w.value == \"time series\":\n",
    "            p_d['plot'].value = 'pondts'\n",
    "        elif l1w.value == \"runoff\" and l2w.value == \"time series\":\n",
    "            p_d['plot'].value = 'runoffts'\n",
    "        elif l1w.value == \"costs\" and l2w.value == \"irrigation\":\n",
    "            p_d['plot'].value = 'irrigationcost'\n",
    "        elif l1w.value == \"end of season\" and l2w.value == \"yield\":\n",
    "            p_d['plot'].value = 'harvestyield'\n",
    "        elif l1w.value == \"revenue\" and l2w.value == \"crush\":\n",
    "            p_d['plot'].value = 'harvestrevenue'\n",
    "        elif l1w.value == \"growth\":\n",
    "            if l2w.value == \"canopy\":\n",
    "                p_d['plot'].value = 'laitimeseries'\n",
    "            elif l2w.value == \"fruit\":\n",
    "                p_d['plot'].value = 'fruittimeseries'\n",
    "            elif l2w.value == \"Brix\":\n",
    "                p_d['plot'].value = 'brixtimeseries'\n",
    "            elif l2w.value == \"berry number per shoot\":\n",
    "                p_d['plot'].value = 'berrynumshoottimeseries'\n",
    "            elif l2w.value == \"shoot number\":\n",
    "                p_d['plot'].value = 'shootnumtimeseries'\n",
    "            elif l2w.value == \"bud number\":\n",
    "                p_d['plot'].value = 'budnovinetimeseries'\n",
    "        elif l1w.value == \"key dates\":\n",
    "            #p_d['plot'].value = l2w.value\n",
    "            if l2w.value == \"bud burst\":\n",
    "                p_d['plot'].value = 'bbdate'\n",
    "            elif l2w.value == \"first flower\":\n",
    "                p_d['plot'].value = 'ffdate'\n",
    "            elif l2w.value == \"veraison\":\n",
    "                p_d['plot'].value = 'vsdate'\n",
    "            elif l2w.value == \"harvest\":\n",
    "                p_d['plot'].value = 'hvdate'\n",
    "        elif l1w.value == \"costs\" and l2w.value == \"irrigation plus canopy and disease management\":\n",
    "            p_d['plot'].value = 'costcontributions'\n",
    "        elif l1w.value == \"bottom line\" and l2w.value == \"gross margin\":\n",
    "            p_d['plot'].value = 'grossmargin'\n",
    "        elif l1w.value == \"investigation\":\n",
    "            if l2w.value == \"available energy\":\n",
    "                p_d['plot'].value = 'cpoolts'\n",
    "            elif l2w.value == \"fruit energy sink\":\n",
    "                p_d['plot'].value = 'fruitsinkts'\n",
    "            elif l2w.value == \"soil water stress index\":\n",
    "                p_d['plot'].value = 'swstressts'\n",
    "            elif l2w.value == \"potential vine transpiration\":\n",
    "                p_d['plot'].value = 'VineEop'\n",
    "            elif l2w.value == \"root uptake\":\n",
    "                p_d['plot'].value = 'Tru'\n",
    "            #elif l2w.value == \"supply v demand\":\n",
    "             #   p_d['plot'].value = 'supplydemand'\n",
    "            elif l2w.value == \"reserve energy store\":\n",
    "                p_d['plot'].value = 'vreservets'\n",
    "            elif l2w.value == \"carbon assimilate produced\":\n",
    "                p_d['plot'].value = 'vcarbots'\n",
    "            elif l2w.value == \"potential carbon production\":\n",
    "                p_d['plot'].value = 'pcarbts'\n",
    "        else:\n",
    "            p_d['plot'].value = 'underdev'\n",
    "    else:\n",
    "        raise Exception(\"Please select other menu drop-down options first...\")\n",
    "    return p_d"
   ]
  },
  {
   "cell_type": "code",
   "execution_count": 19,
   "metadata": {},
   "outputs": [],
   "source": [
    "d0 = {'how my vine is developing' : ['growth', 'key dates', 'end of season', 'investigation'], \n",
    "      'where my water is going' : ['irrigation', 'rainfall', 'ponding', 'runoff', 'evaporation', \n",
    "                                   'infiltration', 'soil moisture', 'soil water deficit irrigation trigger',\n",
    "                                   'root uptake', 'total soil water', \n",
    "                                   'soil water balance components', 'soil water balance error'], #'tsw2','tswtop', 'wet1','water table'\n",
    "      'what my financial position is': ['revenue', 'costs', 'bottom line']}\n",
    "d1 = {v: [] for v in [x for y in list(d0.values()) for x in y]}  # one level? at a time - to avoid multi-index hassle\n",
    "d1['irrigation'] = ['time series', 'total']\n",
    "d1['infiltration'] = ['time series']\n",
    "d1['evaporation'] = ['time series']\n",
    "d1['soil moisture'] = ['time series']\n",
    "d1['soil water deficit irrigation trigger'] = ['time series']\n",
    "d1['soil water balance error'] = ['time series']\n",
    "d1['soil water balance components'] = ['bar chart']#'pie charts', \n",
    "d1['total soil water'] = ['time series']\n",
    "#d1['tsw2'] = ['time series']\n",
    "#d1['tswtop'] = ['time series']\n",
    "#d1['wet1'] = ['time series']\n",
    "d1['drainage'] = ['time series']\n",
    "#d1['water table'] = ['time series']\n",
    "d1['root uptake'] = ['time series']\n",
    "d1['rainfall'] = ['time series', 'total']\n",
    "d1['ponding'] = ['time series']\n",
    "d1['runoff'] = ['time series']\n",
    "d1['key dates'] = ['bud burst', 'first flower', 'veraison', 'harvest']\n",
    "d1['investigation'] = ['available energy', 'fruit energy sink',  \n",
    "                       'soil water stress index', 'potential vine transpiration', 'root uptake', \n",
    "                       'reserve energy store', 'carbon assimilate produced', 'potential carbon production'] #'fruit energy supply vs demand'\n",
    "d1['growth'] = ['canopy', 'fruit', 'Brix', 'bud number', 'berry number per shoot', 'shoot number'] \n",
    "d1['end of season'] = ['yield']\n",
    "d1['revenue'] = ['crush']\n",
    "d1['costs'] = ['irrigation', 'irrigation plus canopy and disease management']  #'labour', 'diesel', 'chemical', \n",
    "d1['bottom line'] = ['gross margin']\n",
    "\n",
    "level0_widget = Dropdown( options=list(d0.keys()),\n",
    "                         value='how my vine is developing',\n",
    "                         description='',\n",
    "                       )\n",
    "level1_widget = Dropdown( options=d0['how my vine is developing'],\n",
    "                         value=None,\n",
    "                         description='',\n",
    "                       )\n",
    "level2_widget = Dropdown( options=[\"Please select other menu drop-down options first...\", ],\n",
    "                         value=None,\n",
    "                         description='',\n",
    "                       )\n",
    "\n",
    "def on_update_widget_level0(*args):\n",
    "    level1_widget.options = d0[level0_widget.value]\n",
    "level0_widget.observe(on_update_widget_level0, 'value')\n",
    "\n",
    "def on_update_widget_level1(*args):\n",
    "    level2_widget.options = d1[level1_widget.value]\n",
    "level1_widget.observe(on_update_widget_level1, 'value')"
   ]
  },
  {
   "cell_type": "code",
   "execution_count": 20,
   "metadata": {},
   "outputs": [],
   "source": [
    "def on_change1(change):\n",
    "    not_in_l = d0['how my vine is developing'] + d0['what my financial position is']\n",
    "    if change['type'] == 'change' and change['name'] == 'value':\n",
    "        # TODO: tidy\n",
    "        if \"water\" in level0_widget.value and (\"irrigation\" not in level1_widget.value or \n",
    "                                              (\"irrigation\" in level1_widget.value and (\n",
    "                                               change['old'] is not None and \"irrigation\" not in change['old']\n",
    "                                               and \"revenue\" not in change['old'] and \"costs\" not in change['old']\n",
    "                                               and \"bottom line\" not in change['old'] and \"growth\" not in change['old']\n",
    "                                               and \"key dates\" not in change['old'] \n",
    "                                               and \"end of season\" not in change['old']))):\n",
    "            #print(change)\n",
    "            on_change(change)\n",
    "\n",
    "def on_change2(change):\n",
    "    if change['type'] == 'change' and change['name'] == 'value':\n",
    "        if \"water\" not in level0_widget.value or (\n",
    "            \"water\" in level0_widget.value and \"irrigation\" in level1_widget.value) or (\n",
    "            \"water\" in level0_widget.value and \"rain\" in level1_widget.value):# or (\n",
    "            #\"water\" in level0_widget.value and \"soil water balance components\" in level1_widget.value):\n",
    "            #print(change)\n",
    "            on_change(change)\n",
    "            \n",
    "def on_change(change):\n",
    "    #plt.close()\n",
    "    #print(\"changed to {}\".format(change['new']))\n",
    "    clear_output()\n",
    "    display(HBox([l_box, c_box, r_box]))\n",
    "    #display(button)\n",
    "    #irrig = str_d['irrigation'].value\n",
    "    #print(\"evaluating {} irrigation scenario with respect to base scenario...\".format(irrig))\n",
    "    \n",
    "    # TODO: drop irrig scen\n",
    "    #scens = mjknowling.run_scen(irrig, scen_d=scen_d)\n",
    "    \n",
    "    p_d = plot_request_mapper(l1w=level1_widget, l2w=level2_widget)\n",
    "    plot = p_d['plot'].value\n",
    "    time.sleep(.001)\n",
    "    #print(on_button_clicked.scen_d, on_button_clicked.sel_scens)\n",
    "    dd = {}\n",
    "    try:\n",
    "        on_button_clicked.sel_scens\n",
    "        on_button_clicked.scen_d\n",
    "    except AttributeError:\n",
    "        raise Exception(\"Please Evaluate Scenario(s)\")\n",
    "    for k, v in on_button_clicked.sel_scens.items():\n",
    "        dd[v] = on_button_clicked.scen_d[k.strip(\".json\")]\n",
    "    #print(list(on_button_clicked.scen_d.keys()))\n",
    "    cd = {}\n",
    "    for k, v in on_button_clicked.sel_scens.items():\n",
    "        cd[k.strip(\".json\")] = on_button_clicked.sel_scens[k]\n",
    "    #print(\"plotting {}\".format(plot))\n",
    "    #print(cd, plot, dd)\n",
    "    mjknowling.plot_scen(cd, plot, scen_d=dd)#on_button_clicked.scen_d)"
   ]
  },
  {
   "cell_type": "code",
   "execution_count": 21,
   "metadata": {},
   "outputs": [],
   "source": [
    "level1_widget.observe(on_change1)\n",
    "level2_widget.observe(on_change2)"
   ]
  },
  {
   "cell_type": "code",
   "execution_count": 22,
   "metadata": {},
   "outputs": [],
   "source": [
    "#on_button_clicked.sel_scens, on_button_clicked.scen_d"
   ]
  },
  {
   "cell_type": "code",
   "execution_count": 23,
   "metadata": {},
   "outputs": [
    {
     "name": "stdout",
     "output_type": "stream",
     "text": [
      "I want to know...\n"
     ]
    }
   ],
   "source": [
    "print('I want to know...')"
   ]
  },
  {
   "cell_type": "code",
   "execution_count": 24,
   "metadata": {
    "scrolled": true
   },
   "outputs": [
    {
     "data": {
      "application/vnd.jupyter.widget-view+json": {
       "model_id": "20ee4124b6804cd9a6912c9498f9405e",
       "version_major": 2,
       "version_minor": 0
      },
      "text/plain": [
       "interactive(children=(Checkbox(value=True, description='2 ML/ha,\\nShiraz,\\nSchwarzmann'), Checkbox(value=True,…"
      ]
     },
     "metadata": {},
     "output_type": "display_data"
    }
   ],
   "source": [
    "#ipyw.interactive(updateScen, **{c.description: c.value for c in chk})"
   ]
  },
  {
   "cell_type": "code",
   "execution_count": 25,
   "metadata": {
    "scrolled": false
   },
   "outputs": [
    {
     "data": {
      "application/vnd.jupyter.widget-view+json": {
       "model_id": "22e4b60d50194f209ee4ab98d1a4ef61",
       "version_major": 2,
       "version_minor": 0
      },
      "text/plain": [
       "Button(description='Evaluate Scenario(s)', style=ButtonStyle())"
      ]
     },
     "metadata": {},
     "output_type": "display_data"
    }
   ],
   "source": [
    "#display(button)"
   ]
  },
  {
   "cell_type": "code",
   "execution_count": 26,
   "metadata": {
    "scrolled": false
   },
   "outputs": [
    {
     "data": {
      "application/vnd.jupyter.widget-view+json": {
       "model_id": "87c860475cec49b68c35205dadbeeb05",
       "version_major": 2,
       "version_minor": 0
      },
      "text/plain": [
       "HBox(children=(VBox(children=(Dropdown(options=('how my vine is developing', 'where my water is going', 'what …"
      ]
     },
     "metadata": {},
     "output_type": "display_data"
    },
    {
     "data": {
      "image/png": "[encoded data removed]",
      "text/plain": [
       "<Figure size 576x432 with 1 Axes>"
      ]
     },
     "metadata": {
      "needs_background": "light"
     },
     "output_type": "display_data"
    }
   ],
   "source": [
    "l_box, c_box, r_box = VBox([level0_widget]), VBox([level1_widget]), VBox([level2_widget])\n",
    "display(HBox([l_box, c_box, r_box]))"
   ]
  },
  {
   "cell_type": "code",
   "execution_count": null,
   "metadata": {},
   "outputs": [],
   "source": []
  },
  {
   "cell_type": "code",
   "execution_count": null,
   "metadata": {},
   "outputs": [],
   "source": []
  },
  {
   "cell_type": "code",
   "execution_count": null,
   "metadata": {},
   "outputs": [],
   "source": []
  },
  {
   "cell_type": "code",
   "execution_count": null,
   "metadata": {},
   "outputs": [],
   "source": []
  }
 ],
 "metadata": {
  "kernelspec": {
   "display_name": "Python 3",
   "language": "python",
   "name": "python3"
  },
  "language_info": {
   "codemirror_mode": {
    "name": "ipython",
    "version": 3
   },
   "file_extension": ".py",
   "mimetype": "text/x-python",
   "name": "python",
   "nbconvert_exporter": "python",
   "pygments_lexer": "ipython3",
   "version": "3.6.10"
  }
 },
 "nbformat": 4,
 "nbformat_minor": 4
}
