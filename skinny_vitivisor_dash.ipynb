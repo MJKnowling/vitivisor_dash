{
 "cells": [
  {
   "cell_type": "markdown",
   "metadata": {},
   "source": [
    "## skinny prediction and advisory dashboard"
   ]
  },
  {
   "cell_type": "code",
   "execution_count": null,
   "metadata": {
    "scrolled": true
   },
   "outputs": [],
   "source": [
    "from __future__ import print_function\n",
    "import os\n",
    "import ipywidgets as ipyw\n",
    "import matplotlib as mpl\n",
    "import matplotlib.pyplot as plt\n",
    "import IPython\n",
    "import warnings\n",
    "warnings.filterwarnings(\"ignore\")\n",
    "import mjknowling"
   ]
  },
  {
   "cell_type": "code",
   "execution_count": null,
   "metadata": {},
   "outputs": [],
   "source": [
    "# widgets\n",
    "irrig_scen = [\"low\", \"high\"]\n",
    "irrig_str = ipyw.Text(\"0.5\")\n",
    "str_d = {\"irrigation\": irrig_str}\n",
    "\n",
    "def set_irrig(**kwargs):\n",
    "    for k, v in kwargs.items():\n",
    "        str_d[k].value = str(v)\n",
    "        \n",
    "w = ipyw.interactive(set_irrig, irrigation=irrig_scen)\n",
    "\n",
    "def on_button_clicked(b):\n",
    "    irrig = str_d['irrigation'].value\n",
    "    print(\"evaluating {}...\".format(irrig))\n",
    "    scens = mjknowling.run_scen(irrig)\n",
    "    mjknowling.plot_scen(scens)\n",
    "    \n",
    "button = ipyw.Button(description=\"Get Some Science\")\n",
    "button.on_click(on_button_clicked)"
   ]
  },
  {
   "cell_type": "code",
   "execution_count": null,
   "metadata": {},
   "outputs": [],
   "source": [
    "#r = ipyw.interact(set_risk,risk=(0.01,0.99,0.01))\n",
    "display(w)"
   ]
  },
  {
   "cell_type": "code",
   "execution_count": null,
   "metadata": {
    "scrolled": true
   },
   "outputs": [],
   "source": [
    "display(button)"
   ]
  },
  {
   "cell_type": "code",
   "execution_count": null,
   "metadata": {},
   "outputs": [],
   "source": []
  },
  {
   "cell_type": "code",
   "execution_count": null,
   "metadata": {},
   "outputs": [],
   "source": []
  }
 ],
 "metadata": {
  "kernelspec": {
   "display_name": "Python 3",
   "language": "python",
   "name": "python3"
  },
  "language_info": {
   "codemirror_mode": {
    "name": "ipython",
    "version": 3
   },
   "file_extension": ".py",
   "mimetype": "text/x-python",
   "name": "python",
   "nbconvert_exporter": "python",
   "pygments_lexer": "ipython3",
   "version": "3.6.10"
  }
 },
 "nbformat": 4,
 "nbformat_minor": 4
}
