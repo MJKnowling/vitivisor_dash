{
 "cells": [
  {
   "cell_type": "markdown",
   "metadata": {},
   "source": [
    "# skinny prediction and advisory dashboard"
   ]
  },
  {
   "cell_type": "markdown",
   "metadata": {},
   "source": [
    "### `MyVineyard` (vineyard properties including `grape variety`, `soil type`, `rootstock type`, `...`,  and also variables that will affecct management intervention such as `canopy structure` or `vine width`); \n",
    "\n",
    "### `MyManagement` (management related variables such as `entitlement`, `water delivery service`, `...`)"
   ]
  },
  {
   "cell_type": "code",
   "execution_count": null,
   "metadata": {
    "scrolled": true
   },
   "outputs": [],
   "source": [
    "from __future__ import print_function\n",
    "import os\n",
    "import ipywidgets as ipyw\n",
    "import matplotlib as mpl\n",
    "import matplotlib.pyplot as plt\n",
    "import IPython\n",
    "import warnings\n",
    "warnings.filterwarnings(\"ignore\")\n",
    "import mjknowling"
   ]
  },
  {
   "cell_type": "code",
   "execution_count": null,
   "metadata": {},
   "outputs": [],
   "source": [
    "%matplotlib inline\n",
    "# widgets\n",
    "irrig_scen = [\"low\", \"high\"]\n",
    "irrig_str = ipyw.Text(\"0.5\")\n",
    "str_d = {\"irrigation\": irrig_str}\n",
    "plot_types = [\"irrigationtimeseries\", \"irrigationcost\", \"harvestyield\", \"harvestrevenue\",\n",
    "              \"laitimeseries\", \"costcontributions\", \"grossmargin\"]\n",
    "plot_str = ipyw.Text(\"0.5\")\n",
    "p_d = {\"plot\": plot_str}\n",
    "\n",
    "def set_irrig(**kwargs):\n",
    "    for k, v in kwargs.items():\n",
    "        str_d[k].value = str(v)\n",
    "        \n",
    "def set_plot_type(**kwargs):\n",
    "    for k, v in kwargs.items():\n",
    "        p_d[k].value = str(v)\n",
    "        \n",
    "w = ipyw.interactive(set_irrig, irrigation=irrig_scen)\n",
    "p = ipyw.interactive(set_plot_type, plot=plot_types)\n",
    "\n",
    "def on_button_clicked(b):\n",
    "    irrig = str_d['irrigation'].value\n",
    "    print(\"evaluating {} irrigation scenario with respect to base scenario...\".format(irrig))\n",
    "    scens = mjknowling.run_scen(irrig)\n",
    "    plot = p_d['plot'].value\n",
    "    print(\"plotting {}\".format(plot))\n",
    "    mjknowling.plot_scen(scens, plot)\n",
    "    \n",
    "button = ipyw.Button(description=\"Get Some Science\")\n",
    "button.on_click(on_button_clicked)"
   ]
  },
  {
   "cell_type": "code",
   "execution_count": null,
   "metadata": {},
   "outputs": [],
   "source": [
    "display(w)"
   ]
  },
  {
   "cell_type": "code",
   "execution_count": null,
   "metadata": {},
   "outputs": [],
   "source": [
    "display(p)  # or just streams to reduce model calls?"
   ]
  },
  {
   "cell_type": "code",
   "execution_count": null,
   "metadata": {
    "scrolled": false
   },
   "outputs": [],
   "source": [
    "display(button)"
   ]
  },
  {
   "cell_type": "code",
   "execution_count": null,
   "metadata": {},
   "outputs": [],
   "source": []
  }
 ],
 "metadata": {
  "kernelspec": {
   "display_name": "Python 3",
   "language": "python",
   "name": "python3"
  },
  "language_info": {
   "codemirror_mode": {
    "name": "ipython",
    "version": 3
   },
   "file_extension": ".py",
   "mimetype": "text/x-python",
   "name": "python",
   "nbconvert_exporter": "python",
   "pygments_lexer": "ipython3",
   "version": "3.6.10"
  }
 },
 "nbformat": 4,
 "nbformat_minor": 4
}
