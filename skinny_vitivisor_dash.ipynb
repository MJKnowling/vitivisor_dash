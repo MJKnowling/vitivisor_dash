{
 "cells": [
  {
   "cell_type": "code",
   "execution_count": null,
   "metadata": {
    "scrolled": true
   },
   "outputs": [],
   "source": [
    "%%capture\n",
    "from __future__ import print_function\n",
    "import os\n",
    "import ipywidgets as ipyw\n",
    "from ipywidgets import Dropdown, FloatText, IntSlider, Label, HBox, VBox\n",
    "import matplotlib as mpl\n",
    "import pandas as pd\n",
    "import matplotlib.pyplot as plt\n",
    "import IPython\n",
    "import warnings\n",
    "warnings.filterwarnings(\"ignore\")\n",
    "import mjknowling"
   ]
  },
  {
   "cell_type": "markdown",
   "metadata": {},
   "source": [
    "### MyVineyard"
   ]
  },
  {
   "cell_type": "code",
   "execution_count": null,
   "metadata": {},
   "outputs": [],
   "source": [
    "%matplotlib inline\n",
    "variety_d = {'variety': ['shiraz']}\n",
    "variety_widget = Dropdown( options=variety_d['variety'],\n",
    "                         value='shiraz',\n",
    "                         description='variety',\n",
    "                       )\n",
    "rootstock_d = {'rootstock': ['Schwartzmann']}\n",
    "rootstock_widget = Dropdown( options=rootstock_d['rootstock'],\n",
    "                         value='Schwartzmann',\n",
    "                         description='rootstock',\n",
    "                       )\n",
    "#style = {'description_width': 'initial'}\n",
    "#entitl_widget = FloatText( value=10.0, step=1, )#description='entitlement (ML)', style=style)\n",
    "#entitl_widget = HBox([Label('entitl. (ML)'), entitl_widget])\n",
    "left_box = VBox([variety_widget, ])#entitl_widget])\n",
    "right_box = VBox([rootstock_widget])\n",
    "HBox([left_box, right_box])"
   ]
  },
  {
   "cell_type": "markdown",
   "metadata": {},
   "source": [
    "### MyManagementScenarios"
   ]
  },
  {
   "cell_type": "code",
   "execution_count": null,
   "metadata": {},
   "outputs": [],
   "source": [
    "irrig_scen = [\"low\", \"high\"]\n",
    "irrig_str = ipyw.Text(\"0.5\")\n",
    "str_d = {\"irrigation\": irrig_str}\n",
    "def set_irrig(**kwargs):\n",
    "    for k, v in kwargs.items():\n",
    "        str_d[k].value = str(v)\n",
    "w = ipyw.interactive(set_irrig, irrigation=irrig_scen)\n",
    "#display(w)\n",
    "str_d['irrigation'].value = 'low'"
   ]
  },
  {
   "cell_type": "code",
   "execution_count": null,
   "metadata": {},
   "outputs": [],
   "source": [
    "'''\n",
    "s0 = {'irrigation strategies': ['soil moisture deficit based'], \n",
    "      'canopy management strategies': ['under dev']}\n",
    "s1 = {v: [] for v in [x for y in list(s0.values()) for x in y]}  # one level at a time - to avoid multi-index hassle\n",
    "s1['soil moisture deficit based'] = ['simple', 'detailed']\n",
    "s1['under dev'] = ['under dev']\n",
    "\n",
    "slevel0_widget = Dropdown( options=list(s0.keys()),\n",
    "                         value='irrigation strategies',\n",
    "                         description='',\n",
    "                       )\n",
    "slevel1_widget = Dropdown( options=s0['irrigation strategies'],\n",
    "                         value=None,\n",
    "                         description='',\n",
    "                       )\n",
    "slevel2_widget = Dropdown( options=s0['irrigation strategies'],\n",
    "                         value=None,\n",
    "                         description='',\n",
    "                       )\n",
    "\n",
    "def on_update_widget_slevel0(*args):\n",
    "    slevel1_widget.options = s0[slevel0_widget.value]\n",
    "slevel0_widget.observe(on_update_widget_slevel0, 'value')\n",
    "\n",
    "def on_update_widget_slevel1(*args):\n",
    "    slevel2_widget.options = s1[slevel1_widget.value]\n",
    "slevel1_widget.observe(on_update_widget_slevel1, 'value')\n",
    "\n",
    "print('Scenario generator...')\n",
    "print(\"I want to explore...\")\n",
    "l_box, c_box, r_box = VBox([slevel0_widget]), VBox([slevel1_widget]), VBox([slevel2_widget])\n",
    "HBox([l_box, c_box, r_box])'''"
   ]
  },
  {
   "cell_type": "code",
   "execution_count": null,
   "metadata": {},
   "outputs": [],
   "source": [
    "# scenario selector\n",
    "print('ScenarioSelector...')\n",
    "#print('Scenarios found...')\n",
    "base_scen_chk = ipyw.Checkbox(value=True, description='base', disabled=False, indent=False)\n",
    "low_scen_chk = ipyw.Checkbox(value=False, description='low', disabled=False, indent=False)\n",
    "high_scen_chk = ipyw.Checkbox(value=False, description='high', disabled=False, indent=False)\n",
    "l_box, c_box, r_box = VBox([base_scen_chk]), VBox([low_scen_chk]), VBox([high_scen_chk])\n",
    "HBox([l_box, c_box, r_box])"
   ]
  },
  {
   "cell_type": "code",
   "execution_count": null,
   "metadata": {},
   "outputs": [],
   "source": [
    "# loop programmatically over found\n",
    "scenarios = []\n",
    "if base_scen_chk.value:\n",
    "    scenarios.append('base')\n",
    "if low_scen_chk.value:\n",
    "    scenarios.append('low')\n",
    "if high_scen_chk.value:\n",
    "    scenarios.append('high')"
   ]
  },
  {
   "cell_type": "code",
   "execution_count": null,
   "metadata": {},
   "outputs": [],
   "source": [
    "#print('Scenario labeler and saver (and model runner) here...')"
   ]
  },
  {
   "cell_type": "markdown",
   "metadata": {},
   "source": [
    "### MyAssessment"
   ]
  },
  {
   "cell_type": "code",
   "execution_count": null,
   "metadata": {},
   "outputs": [],
   "source": [
    "d0 = {'how my vine is developing' : ['key dates', 'growth', 'end of season'], \n",
    "      'where my water is going' : ['irrigation', 'soil moisture', 'transpiration'],\n",
    "      'what my financial position is': ['revenue', 'costs', 'bottom line']}\n",
    "d1 = {v: [] for v in [x for y in list(d0.values()) for x in y]}  # one level at a time - to avoid multi-index hassle\n",
    "d1['irrigation'] = ['time series', 'total']\n",
    "d1['key dates'] = ['bud burst', 'first flower', 'veraison', 'harvest']\n",
    "d1['growth'] = ['canopy', 'berry']\n",
    "d1['end of season'] = ['yield', 'Brix']\n",
    "d1['revenue'] = ['crush']\n",
    "d1['costs'] = ['irrigation', 'labour', 'diesel', 'chemical', 'comparison']\n",
    "d1['bottom line'] = ['gross margin']"
   ]
  },
  {
   "cell_type": "code",
   "execution_count": null,
   "metadata": {},
   "outputs": [],
   "source": [
    "level0_widget = Dropdown( options=list(d0.keys()),\n",
    "                         value='how my vine is developing',\n",
    "                         description='',\n",
    "                       )\n",
    "level1_widget = Dropdown( options=d0['how my vine is developing'],\n",
    "                         value=None,\n",
    "                         description='',\n",
    "                       )\n",
    "level2_widget = Dropdown( options=d0['how my vine is developing'],\n",
    "                         value=None,\n",
    "                         description='',\n",
    "                       )"
   ]
  },
  {
   "cell_type": "code",
   "execution_count": null,
   "metadata": {},
   "outputs": [],
   "source": [
    "def on_update_widget_level0(*args):\n",
    "    level1_widget.options = d0[level0_widget.value]\n",
    "level0_widget.observe(on_update_widget_level0, 'value')\n",
    "\n",
    "def on_update_widget_level1(*args):\n",
    "    level2_widget.options = d1[level1_widget.value]\n",
    "level1_widget.observe(on_update_widget_level1, 'value')"
   ]
  },
  {
   "cell_type": "code",
   "execution_count": null,
   "metadata": {},
   "outputs": [],
   "source": [
    "print('I want to know....')\n",
    "l_box, c_box, r_box = VBox([level0_widget]), VBox([level1_widget]), VBox([level2_widget])\n",
    "HBox([l_box, c_box, r_box])"
   ]
  },
  {
   "cell_type": "code",
   "execution_count": null,
   "metadata": {},
   "outputs": [],
   "source": [
    "def plot_request_mapper():\n",
    "    plot_str = ipyw.Text(\"0.5\")\n",
    "    p_d = {\"plot\": plot_str}\n",
    "    if level1_widget.value is not None and level2_widget is not None:\n",
    "        if level1_widget.value == \"irrigation\" and level2_widget.value == \"time series\":\n",
    "            p_d['plot'].value = 'irrigationtimeseries'\n",
    "        elif level1_widget.value == \"costs\" and level2_widget.value == \"irrigation\":\n",
    "            p_d['plot'].value = 'irrigationcost'\n",
    "        elif level1_widget.value == \"end of season\" and level2_widget.value == \"yield\":\n",
    "            p_d['plot'].value = 'harvestyield'\n",
    "        elif level1_widget.value == \"revenue\" and level2_widget.value == \"crush\":\n",
    "            p_d['plot'].value = 'harvestrevenue'\n",
    "        elif level1_widget.value == \"growth\" and level2_widget.value == \"canopy\":\n",
    "            p_d['plot'].value = 'laitimeseries'\n",
    "        elif level1_widget.value == \"costs\" and level2_widget.value == \"comparison\":\n",
    "            p_d['plot'].value = 'costcontributions'\n",
    "        elif level1_widget.value == \"bottom line\" and level2_widget.value == \"gross margin\":\n",
    "            p_d['plot'].value = 'grossmargin'\n",
    "        else:\n",
    "            p_d['plot'].value = 'underdev'\n",
    "    else:\n",
    "        raise Exception(\"Please select an option from each of the drop-down menus!\")\n",
    "    return p_d"
   ]
  },
  {
   "cell_type": "code",
   "execution_count": null,
   "metadata": {},
   "outputs": [],
   "source": [
    "from IPython.display import clear_output\n",
    "def on_button_clicked(b):\n",
    "    clear_output()\n",
    "    display(button)\n",
    "    irrig = str_d['irrigation'].value\n",
    "    #print(\"evaluating {} irrigation scenario with respect to base scenario...\".format(irrig))\n",
    "    scens = mjknowling.run_scen(irrig)\n",
    "    p_d = plot_request_mapper()\n",
    "    plot = p_d['plot'].value\n",
    "    #print(\"plotting {}\".format(plot))\n",
    "    mjknowling.plot_scen(scens, plot)\n",
    "    \n",
    "button = ipyw.Button(description=\"Get Some Science\")\n",
    "button.on_click(on_button_clicked)\n",
    "display(button)"
   ]
  },
  {
   "cell_type": "code",
   "execution_count": null,
   "metadata": {},
   "outputs": [],
   "source": []
  },
  {
   "cell_type": "code",
   "execution_count": null,
   "metadata": {},
   "outputs": [],
   "source": []
  }
 ],
 "metadata": {
  "kernelspec": {
   "display_name": "Python 3",
   "language": "python",
   "name": "python3"
  },
  "language_info": {
   "codemirror_mode": {
    "name": "ipython",
    "version": 3
   },
   "file_extension": ".py",
   "mimetype": "text/x-python",
   "name": "python",
   "nbconvert_exporter": "python",
   "pygments_lexer": "ipython3",
   "version": "3.6.10"
  }
 },
 "nbformat": 4,
 "nbformat_minor": 4
}
