{
 "cells": [
  {
   "cell_type": "code",
   "execution_count": null,
   "metadata": {
    "scrolled": true
   },
   "outputs": [],
   "source": [
    "%%capture\n",
    "from __future__ import print_function\n",
    "import os\n",
    "import ipywidgets as ipyw\n",
    "import matplotlib as mpl\n",
    "import pandas as pd\n",
    "import matplotlib.pyplot as plt\n",
    "import IPython\n",
    "import warnings\n",
    "warnings.filterwarnings(\"ignore\")\n",
    "import mjknowling"
   ]
  },
  {
   "cell_type": "markdown",
   "metadata": {},
   "source": [
    "## MyVineyard"
   ]
  },
  {
   "cell_type": "markdown",
   "metadata": {},
   "source": [
    "## MyManagementScenarios"
   ]
  },
  {
   "cell_type": "code",
   "execution_count": null,
   "metadata": {},
   "outputs": [],
   "source": [
    "%matplotlib inline\n",
    "irrig_scen = [\"low\", \"high\"]\n",
    "irrig_str = ipyw.Text(\"0.5\")\n",
    "str_d = {\"irrigation\": irrig_str}\n",
    "def set_irrig(**kwargs):\n",
    "    for k, v in kwargs.items():\n",
    "        str_d[k].value = str(v)\n",
    "w = ipyw.interactive(set_irrig, irrigation=irrig_scen)\n",
    "#display(w)\n",
    "str_d['irrigation'].value = 'low'"
   ]
  },
  {
   "cell_type": "markdown",
   "metadata": {},
   "source": [
    "## MyAssessment"
   ]
  },
  {
   "cell_type": "code",
   "execution_count": null,
   "metadata": {},
   "outputs": [],
   "source": [
    "plot_types = [\"irrigationtimeseries\", \"irrigationcost\", \"harvestyield\", \"harvestrevenue\",\n",
    "              \"laitimeseries\", \"costcontributions\", \"grossmargin\"]\n",
    "plot_str = ipyw.Text(\"0.5\")\n",
    "p_d = {\"plot\": plot_str}\n",
    "def set_plot_type(**kwargs):\n",
    "    for k, v in kwargs.items():\n",
    "        p_d[k].value = str(v)\n",
    "p = ipyw.interactive(set_plot_type, plot=plot_types)\n",
    "display(p)"
   ]
  },
  {
   "cell_type": "code",
   "execution_count": null,
   "metadata": {},
   "outputs": [],
   "source": [
    "from IPython.display import clear_output\n",
    "def on_button_clicked(b):\n",
    "    clear_output()\n",
    "    display(button)\n",
    "    irrig = str_d['irrigation'].value\n",
    "    #print(\"evaluating {} irrigation scenario with respect to base scenario...\".format(irrig))\n",
    "    scens = mjknowling.run_scen(irrig)\n",
    "    plot = p_d['plot'].value\n",
    "    #print(\"plotting {}\".format(plot))\n",
    "    mjknowling.plot_scen(scens, plot)\n",
    "    \n",
    "button = ipyw.Button(description=\"Get Some Science\")\n",
    "button.on_click(on_button_clicked)\n",
    "display(button)"
   ]
  },
  {
   "cell_type": "code",
   "execution_count": null,
   "metadata": {},
   "outputs": [],
   "source": []
  },
  {
   "cell_type": "code",
   "execution_count": null,
   "metadata": {},
   "outputs": [],
   "source": [
    "from ipywidgets import Dropdown\n",
    "d0 = {'where my water is going' : ['irrigation', 'soil moisture', 'transpiration'], \n",
    "      'how my vine is developing' : ['key dates', 'growth', 'end of season'], \n",
    "      'what my financial position is': ['revenue', 'costs', 'bottom line']}\n",
    "d1 = {v: [] for v in [x for y in list(d0.values()) for x in y]}  # one level at a time - to avoid multi-index hassle\n",
    "d1['irrigation'] = ['time series', 'total']\n",
    "d1['key dates'] = ['bud burst', 'first flower', 'veraison', 'harvest']\n",
    "d1['growth'] = ['canopy', 'berry']\n",
    "d1['end of season'] = ['yield', 'Brix']\n",
    "d1['revenue'] = ['crush']\n",
    "d1['costs'] = ['irrigation', 'labour', 'diesel', 'chemical', 'comparison']\n",
    "d1['bottom line'] = ['gross margin']"
   ]
  },
  {
   "cell_type": "code",
   "execution_count": null,
   "metadata": {},
   "outputs": [],
   "source": [
    "level0_widget = Dropdown( options=list(d0.keys()),\n",
    "                         value='where my water is going',\n",
    "                         description=' ',\n",
    "                       )\n",
    "level1_widget = Dropdown( options=d0['where my water is going'],\n",
    "                         value=None,\n",
    "                         description=' ',\n",
    "                       )\n",
    "level2_widget = Dropdown( options=d0['where my water is going'],\n",
    "                         value=None,\n",
    "                         description=' ',\n",
    "                       )"
   ]
  },
  {
   "cell_type": "code",
   "execution_count": null,
   "metadata": {},
   "outputs": [],
   "source": [
    "def on_update_widget_level0(*args):\n",
    "    level1_widget.options = d0[level0_widget.value]\n",
    "level0_widget.observe(on_update_widget_level0, 'value')\n",
    "\n",
    "def on_update_widget_level1(*args):\n",
    "    level2_widget.options = d1[level1_widget.value]\n",
    "level1_widget.observe(on_update_widget_level1, 'value')"
   ]
  },
  {
   "cell_type": "code",
   "execution_count": null,
   "metadata": {},
   "outputs": [],
   "source": [
    "print(\"I want to know...\")\n",
    "display(level0_widget)\n",
    "display(level1_widget)\n",
    "display(level2_widget)"
   ]
  },
  {
   "cell_type": "code",
   "execution_count": null,
   "metadata": {},
   "outputs": [],
   "source": [
    "def plot_request_mapper():\n",
    "    plot_str = ipyw.Text(\"0.5\")\n",
    "    p_d = {\"plot\": plot_str}\n",
    "    if level1_widget.value == \"irrigation\" and level2_widget.value == \"time series\":\n",
    "        p_d['plot'].value = 'irrigationtimeseries'\n",
    "    elif level1_widget.value == \"costs\" and level2_widget.value == \"irrigation\":\n",
    "        p_d['plot'].value = 'irrigationcost'\n",
    "    elif level1_widget.value == \"end of season\" and level2_widget.value == \"yield\":\n",
    "        p_d['plot'].value = 'harvestyield'\n",
    "    elif level1_widget.value == \"revenue\" and level2_widget.value == \"crush\":\n",
    "        p_d['plot'].value = 'harvestrevenue'\n",
    "    elif level1_widget.value == \"growth\" and level2_widget.value == \"canopy\":\n",
    "        p_d['plot'].value = 'laitimeseries'\n",
    "    elif level1_widget.value == \"costs\" and level2_widget.value == \"comparison\":\n",
    "        p_d['plot'].value = 'costcontributions'\n",
    "    elif level1_widget.value == \"bottom line\" and level2_widget.value == \"gross margin\":\n",
    "        p_d['plot'].value = 'grossmargin'\n",
    "    else:\n",
    "        p_d['plot'].value = 'underdev'\n",
    "    return p_d"
   ]
  },
  {
   "cell_type": "code",
   "execution_count": null,
   "metadata": {},
   "outputs": [],
   "source": [
    "level0_widget.value, level1_widget.value, level2_widget.value"
   ]
  },
  {
   "cell_type": "code",
   "execution_count": null,
   "metadata": {},
   "outputs": [],
   "source": [
    "from IPython.display import clear_output\n",
    "def on_button_clicked(b):\n",
    "    clear_output()\n",
    "    display(button)\n",
    "    irrig = str_d['irrigation'].value\n",
    "    #print(\"evaluating {} irrigation scenario with respect to base scenario...\".format(irrig))\n",
    "    scens = mjknowling.run_scen(irrig)  # not wrt baseline\n",
    "    p_d = plot_request_mapper()\n",
    "    plot = p_d['plot'].value\n",
    "    #print(\"plotting {}\".format(plot))\n",
    "    mjknowling.plot_scen(scens, plot)\n",
    "    \n",
    "button = ipyw.Button(description=\"Get Some Science\")\n",
    "button.on_click(on_button_clicked)\n",
    "display(button)"
   ]
  },
  {
   "cell_type": "code",
   "execution_count": null,
   "metadata": {},
   "outputs": [],
   "source": []
  },
  {
   "cell_type": "code",
   "execution_count": null,
   "metadata": {},
   "outputs": [],
   "source": []
  },
  {
   "cell_type": "code",
   "execution_count": null,
   "metadata": {},
   "outputs": [],
   "source": []
  },
  {
   "cell_type": "code",
   "execution_count": null,
   "metadata": {},
   "outputs": [],
   "source": []
  }
 ],
 "metadata": {
  "kernelspec": {
   "display_name": "Python 3",
   "language": "python",
   "name": "python3"
  },
  "language_info": {
   "codemirror_mode": {
    "name": "ipython",
    "version": 3
   },
   "file_extension": ".py",
   "mimetype": "text/x-python",
   "name": "python",
   "nbconvert_exporter": "python",
   "pygments_lexer": "ipython3",
   "version": "3.6.10"
  }
 },
 "nbformat": 4,
 "nbformat_minor": 4
}
